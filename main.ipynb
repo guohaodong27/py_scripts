{
 "cells": [
  {
   "cell_type": "markdown",
   "metadata": {},
   "source": [
    "# 将常见操作批处理（使用正则来批量选取要操作的文件）"
   ]
  },
  {
   "cell_type": "markdown",
   "metadata": {},
   "source": [
    "## 设置查找的目录和正则表达式"
   ]
  },
  {
   "cell_type": "code",
   "execution_count": 4,
   "metadata": {},
   "outputs": [],
   "source": [
    "import os\n",
    "import tqdm\n",
    "import shutil\n",
    "\n",
    "sep = os.sep\n",
    "# dir_path = r'F:\\hcp\\HCP'\n",
    "# dir_path = r'E:\\data'\n",
    "dir_path = r'G:\\prep'\n",
    "dir_path = r'C:\\Users\\holden\\Downloads\\dataset-20241019T113733Z-001\\dataset\\v1\\scans'\n",
    "# dir_patterns= [r'\\d+',r'unprocessed',r'3T',r'rfMRI_REST(1|2)_(LR|RL)']\n",
    "# dir_patterns = [r'\\d+']\n",
    "dir_patterns = [r'(.*)']\n",
    "# file_pattern = r'^(\\d+)_3T_rfMRI_REST(1|2)_(LR|RL)\\.nii.gz$'\n",
    "# file_pattern = r'^(\\d+)_3T_rfMRI_REST(1|2)_(LR|RL)\\.nii$'\n",
    "# file_pattern = r'^(\\d+_3T_rfMRI_REST(1|2)_(LR|RL)\\.nii)$'\n",
    "file_pattern = r'(.*)\\.zip'"
   ]
  },
  {
   "cell_type": "markdown",
   "metadata": {},
   "source": [
    "### 获取文件路径"
   ]
  },
  {
   "cell_type": "code",
   "execution_count": 5,
   "metadata": {},
   "outputs": [
    {
     "data": {
      "text/plain": [
       "['C:\\\\Users\\\\holden\\\\Downloads\\\\dataset-20241019T113733Z-001\\\\dataset\\\\v1\\\\scans\\\\2t7WUuJeko7\\\\matterport_skybox_images.zip',\n",
       " 'C:\\\\Users\\\\holden\\\\Downloads\\\\dataset-20241019T113733Z-001\\\\dataset\\\\v1\\\\scans\\\\D7G3Y4RVNrH\\\\matterport_skybox_images.zip',\n",
       " 'C:\\\\Users\\\\holden\\\\Downloads\\\\dataset-20241019T113733Z-001\\\\dataset\\\\v1\\\\scans\\\\e9zR4mvMWw7\\\\matterport_skybox_images.zip',\n",
       " 'C:\\\\Users\\\\holden\\\\Downloads\\\\dataset-20241019T113733Z-001\\\\dataset\\\\v1\\\\scans\\\\GdvgFV5R1Z5\\\\matterport_skybox_images.zip',\n",
       " 'C:\\\\Users\\\\holden\\\\Downloads\\\\dataset-20241019T113733Z-001\\\\dataset\\\\v1\\\\scans\\\\ULsKaCPVFJR\\\\matterport_skybox_images.zip',\n",
       " 'C:\\\\Users\\\\holden\\\\Downloads\\\\dataset-20241019T113733Z-001\\\\dataset\\\\v1\\\\scans\\\\Uxmj2M2itWa\\\\matterport_skybox_images.zip',\n",
       " 'C:\\\\Users\\\\holden\\\\Downloads\\\\dataset-20241019T113733Z-001\\\\dataset\\\\v1\\\\scans\\\\Vt2qJdWjCF2\\\\matterport_skybox_images.zip',\n",
       " 'C:\\\\Users\\\\holden\\\\Downloads\\\\dataset-20241019T113733Z-001\\\\dataset\\\\v1\\\\scans\\\\VVfe2KiqLaN\\\\matterport_skybox_images.zip',\n",
       " 'C:\\\\Users\\\\holden\\\\Downloads\\\\dataset-20241019T113733Z-001\\\\dataset\\\\v1\\\\scans\\\\WYY7iVyf5p8\\\\matterport_skybox_images.zip',\n",
       " 'C:\\\\Users\\\\holden\\\\Downloads\\\\dataset-20241019T113733Z-001\\\\dataset\\\\v1\\\\scans\\\\X7HyMhZNoso\\\\matterport_skybox_images.zip',\n",
       " 'C:\\\\Users\\\\holden\\\\Downloads\\\\dataset-20241019T113733Z-001\\\\dataset\\\\v1\\\\scans\\\\x8F5xyUWy9e\\\\matterport_skybox_images.zip',\n",
       " 'C:\\\\Users\\\\holden\\\\Downloads\\\\dataset-20241019T113733Z-001\\\\dataset\\\\v1\\\\scans\\\\YFuZgdQ5vWj\\\\matterport_skybox_images.zip',\n",
       " 'C:\\\\Users\\\\holden\\\\Downloads\\\\dataset-20241019T113733Z-001\\\\dataset\\\\v1\\\\scans\\\\YmJkqBEsHnH\\\\matterport_skybox_images.zip',\n",
       " 'C:\\\\Users\\\\holden\\\\Downloads\\\\dataset-20241019T113733Z-001\\\\dataset\\\\v1\\\\scans\\\\yqstnuAEVhm\\\\matterport_skybox_images.zip']"
      ]
     },
     "execution_count": 5,
     "metadata": {},
     "output_type": "execute_result"
    }
   ],
   "source": [
    "from PathWalker import PathWalker\n",
    "# pw = PathWalker(dir_path,dir_patterns,file_pattern,True)\n",
    "# pw.get_path()\n",
    "# unzip_gzip(pw.res)\n",
    "pw = PathWalker(dir_path,dir_patterns,file_pattern,True)\n",
    "pw.get_path()"
   ]
  },
  {
   "cell_type": "markdown",
   "metadata": {},
   "source": [
    "### 移动文件"
   ]
  },
  {
   "cell_type": "code",
   "execution_count": null,
   "metadata": {},
   "outputs": [],
   "source": [
    "# 输出目录\n",
    "# out_dir = [r'G:\\prep' + os.sep + sublist[1][0] for sublist in pw.collected]\n",
    "# move_to(pw.res,out_dir)\n",
    "import shutil\n",
    "def move_to(matching_files,output_dirs):\n",
    "    ## move files\n",
    "    for i,file in tqdm(enumerate(matching_files),total=len(matching_files)):\n",
    "        if not os.path.isdir(output_dirs[i]):\n",
    "            os.mkdir(output_dirs[i])\n",
    "        if not os.path.isfile(output_dirs[i] + os.sep + file.split(os.sep)[-1]):\n",
    "            shutil.move(file,output_dirs[i])"
   ]
  },
  {
   "cell_type": "markdown",
   "metadata": {},
   "source": [
    "### 解压文件(zip)"
   ]
  },
  {
   "cell_type": "code",
   "execution_count": 5,
   "metadata": {},
   "outputs": [],
   "source": [
    "import zipfile\n",
    "\n",
    "def unzip_file(zip_file_path, extract_to='.'):\n",
    "    with zipfile.ZipFile(zip_file_path, 'r') as zip_ref:\n",
    "        zip_ref.extractall(extract_to)\n",
    "\n",
    "for file in pw.res:\n",
    "    # the dir of the source file \n",
    "    tar_dir = os.sep.join(file.split(os.sep)[0:-2])\n",
    "    print(tar_dir)\n",
    "    unzip_file(file,tar_dir)"
   ]
  },
  {
   "cell_type": "markdown",
   "metadata": {},
   "source": [
    "### 删除文件\n"
   ]
  },
  {
   "cell_type": "code",
   "execution_count": 9,
   "metadata": {},
   "outputs": [
    {
     "name": "stdout",
     "output_type": "stream",
     "text": [
      "C:\\Users\\holden\\Downloads\\dataset-20241019T113733Z-001\\dataset\\v1\\scans\\2t7WUuJeko7\\matterport_skybox_images.zip\n",
      "C:\\Users\\holden\\Downloads\\dataset-20241019T113733Z-001\\dataset\\v1\\scans\\D7G3Y4RVNrH\\matterport_skybox_images.zip\n",
      "C:\\Users\\holden\\Downloads\\dataset-20241019T113733Z-001\\dataset\\v1\\scans\\e9zR4mvMWw7\\matterport_skybox_images.zip\n",
      "C:\\Users\\holden\\Downloads\\dataset-20241019T113733Z-001\\dataset\\v1\\scans\\GdvgFV5R1Z5\\matterport_skybox_images.zip\n",
      "C:\\Users\\holden\\Downloads\\dataset-20241019T113733Z-001\\dataset\\v1\\scans\\ULsKaCPVFJR\\matterport_skybox_images.zip\n",
      "C:\\Users\\holden\\Downloads\\dataset-20241019T113733Z-001\\dataset\\v1\\scans\\Uxmj2M2itWa\\matterport_skybox_images.zip\n",
      "C:\\Users\\holden\\Downloads\\dataset-20241019T113733Z-001\\dataset\\v1\\scans\\Vt2qJdWjCF2\\matterport_skybox_images.zip\n",
      "C:\\Users\\holden\\Downloads\\dataset-20241019T113733Z-001\\dataset\\v1\\scans\\VVfe2KiqLaN\\matterport_skybox_images.zip\n",
      "C:\\Users\\holden\\Downloads\\dataset-20241019T113733Z-001\\dataset\\v1\\scans\\WYY7iVyf5p8\\matterport_skybox_images.zip\n",
      "C:\\Users\\holden\\Downloads\\dataset-20241019T113733Z-001\\dataset\\v1\\scans\\X7HyMhZNoso\\matterport_skybox_images.zip\n",
      "C:\\Users\\holden\\Downloads\\dataset-20241019T113733Z-001\\dataset\\v1\\scans\\x8F5xyUWy9e\\matterport_skybox_images.zip\n",
      "C:\\Users\\holden\\Downloads\\dataset-20241019T113733Z-001\\dataset\\v1\\scans\\YFuZgdQ5vWj\\matterport_skybox_images.zip\n",
      "C:\\Users\\holden\\Downloads\\dataset-20241019T113733Z-001\\dataset\\v1\\scans\\YmJkqBEsHnH\\matterport_skybox_images.zip\n",
      "C:\\Users\\holden\\Downloads\\dataset-20241019T113733Z-001\\dataset\\v1\\scans\\yqstnuAEVhm\\matterport_skybox_images.zip\n"
     ]
    }
   ],
   "source": [
    "## 设置垃圾箱\n",
    "recycle_bin = './recycle_bin'\n",
    "# os.mkdir(recycle_bin)\n",
    "\n",
    "\n",
    "for file in pw.res:\n",
    "    # shutil.move(file,recycle_bin)\n",
    "    print(file)\n",
    "\n",
    "def delete_file(filename):\n",
    "    if os.path.exists(filename):\n",
    "        os.remove(filename)\n",
    "        print(f\"文件 {filename} 删除成功！\")\n",
    "    else:\n",
    "        print(f\"文件 {filename} 不存在。\")\n",
    "\n"
   ]
  },
  {
   "cell_type": "code",
   "execution_count": 10,
   "metadata": {},
   "outputs": [
    {
     "name": "stdout",
     "output_type": "stream",
     "text": [
      "文件 C:\\Users\\holden\\Downloads\\dataset-20241019T113733Z-001\\dataset\\v1\\scans\\2t7WUuJeko7\\matterport_skybox_images.zip 不存在。\n",
      "文件 C:\\Users\\holden\\Downloads\\dataset-20241019T113733Z-001\\dataset\\v1\\scans\\D7G3Y4RVNrH\\matterport_skybox_images.zip 删除成功！\n",
      "文件 C:\\Users\\holden\\Downloads\\dataset-20241019T113733Z-001\\dataset\\v1\\scans\\e9zR4mvMWw7\\matterport_skybox_images.zip 删除成功！\n",
      "文件 C:\\Users\\holden\\Downloads\\dataset-20241019T113733Z-001\\dataset\\v1\\scans\\GdvgFV5R1Z5\\matterport_skybox_images.zip 删除成功！\n",
      "文件 C:\\Users\\holden\\Downloads\\dataset-20241019T113733Z-001\\dataset\\v1\\scans\\ULsKaCPVFJR\\matterport_skybox_images.zip 删除成功！\n",
      "文件 C:\\Users\\holden\\Downloads\\dataset-20241019T113733Z-001\\dataset\\v1\\scans\\Uxmj2M2itWa\\matterport_skybox_images.zip 删除成功！\n",
      "文件 C:\\Users\\holden\\Downloads\\dataset-20241019T113733Z-001\\dataset\\v1\\scans\\Vt2qJdWjCF2\\matterport_skybox_images.zip 删除成功！\n",
      "文件 C:\\Users\\holden\\Downloads\\dataset-20241019T113733Z-001\\dataset\\v1\\scans\\VVfe2KiqLaN\\matterport_skybox_images.zip 删除成功！\n",
      "文件 C:\\Users\\holden\\Downloads\\dataset-20241019T113733Z-001\\dataset\\v1\\scans\\WYY7iVyf5p8\\matterport_skybox_images.zip 删除成功！\n",
      "文件 C:\\Users\\holden\\Downloads\\dataset-20241019T113733Z-001\\dataset\\v1\\scans\\X7HyMhZNoso\\matterport_skybox_images.zip 删除成功！\n",
      "文件 C:\\Users\\holden\\Downloads\\dataset-20241019T113733Z-001\\dataset\\v1\\scans\\x8F5xyUWy9e\\matterport_skybox_images.zip 删除成功！\n",
      "文件 C:\\Users\\holden\\Downloads\\dataset-20241019T113733Z-001\\dataset\\v1\\scans\\YFuZgdQ5vWj\\matterport_skybox_images.zip 删除成功！\n",
      "文件 C:\\Users\\holden\\Downloads\\dataset-20241019T113733Z-001\\dataset\\v1\\scans\\YmJkqBEsHnH\\matterport_skybox_images.zip 删除成功！\n",
      "文件 C:\\Users\\holden\\Downloads\\dataset-20241019T113733Z-001\\dataset\\v1\\scans\\yqstnuAEVhm\\matterport_skybox_images.zip 删除成功！\n"
     ]
    }
   ],
   "source": [
    "for file in pw.res:\n",
    "    delete_file(file)"
   ]
  },
  {
   "cell_type": "markdown",
   "metadata": {},
   "source": [
    "## 保存为mat文件"
   ]
  },
  {
   "cell_type": "markdown",
   "metadata": {},
   "source": [
    "### 将文件路径（res）和识别到的文件名（filename的第一个捕获组）保存"
   ]
  },
  {
   "cell_type": "code",
   "execution_count": 3,
   "metadata": {},
   "outputs": [],
   "source": [
    "from P2M import P2M\n",
    "p2m = P2M()\n",
    "p2m.save_mat({'filepath':pw.res})"
   ]
  }
 ],
 "metadata": {
  "kernelspec": {
   "display_name": "Python 3",
   "language": "python",
   "name": "python3"
  },
  "language_info": {
   "codemirror_mode": {
    "name": "ipython",
    "version": 3
   },
   "file_extension": ".py",
   "mimetype": "text/x-python",
   "name": "python",
   "nbconvert_exporter": "python",
   "pygments_lexer": "ipython3",
   "version": "3.12.4"
  }
 },
 "nbformat": 4,
 "nbformat_minor": 2
}
