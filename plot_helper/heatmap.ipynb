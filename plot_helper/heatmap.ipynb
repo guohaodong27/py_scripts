{
 "cells": [
  {
   "cell_type": "code",
   "execution_count": 217,
   "id": "364824014ed82f00",
   "metadata": {
    "ExecuteTime": {
     "end_time": "2024-10-29T05:19:49.507452Z",
     "start_time": "2024-10-29T05:19:47.316793Z"
    }
   },
   "outputs": [
    {
     "name": "stdout",
     "output_type": "stream",
     "text": [
      "Looking in indexes: https://mirrors.tuna.tsinghua.edu.cn/pypi/web/simple\n",
      "Requirement already satisfied: openpyxl in f:\\d2l\\.venv\\lib\\site-packages (3.1.5)\n",
      "Requirement already satisfied: et-xmlfile in f:\\d2l\\.venv\\lib\\site-packages (from openpyxl) (2.0.0)\n"
     ]
    },
    {
     "name": "stderr",
     "output_type": "stream",
     "text": [
      "\n",
      "[notice] A new release of pip is available: 24.2 -> 24.3.1\n",
      "[notice] To update, run: python.exe -m pip install --upgrade pip\n"
     ]
    },
    {
     "name": "stdout",
     "output_type": "stream",
     "text": [
      "Looking in indexes: https://mirrors.tuna.tsinghua.edu.cn/pypi/web/simple\n",
      "Requirement already satisfied: pandas in f:\\d2l\\.venv\\lib\\site-packages (2.0.3)\n",
      "Requirement already satisfied: python-dateutil>=2.8.2 in f:\\d2l\\.venv\\lib\\site-packages (from pandas) (2.9.0.post0)\n",
      "Requirement already satisfied: pytz>=2020.1 in f:\\d2l\\.venv\\lib\\site-packages (from pandas) (2024.2)\n",
      "Requirement already satisfied: tzdata>=2022.1 in f:\\d2l\\.venv\\lib\\site-packages (from pandas) (2024.2)\n",
      "Requirement already satisfied: numpy>=1.20.3 in f:\\d2l\\.venv\\lib\\site-packages (from pandas) (1.23.5)\n",
      "Requirement already satisfied: six>=1.5 in f:\\d2l\\.venv\\lib\\site-packages (from python-dateutil>=2.8.2->pandas) (1.16.0)\n"
     ]
    },
    {
     "name": "stderr",
     "output_type": "stream",
     "text": [
      "\n",
      "[notice] A new release of pip is available: 24.2 -> 24.3.1\n",
      "[notice] To update, run: python.exe -m pip install --upgrade pip\n"
     ]
    },
    {
     "name": "stdout",
     "output_type": "stream",
     "text": [
      "Looking in indexes: https://mirrors.tuna.tsinghua.edu.cn/pypi/web/simple\n",
      "Requirement already satisfied: matplotlib in f:\\d2l\\.venv\\lib\\site-packages (3.7.2)\n",
      "Requirement already satisfied: contourpy>=1.0.1 in f:\\d2l\\.venv\\lib\\site-packages (from matplotlib) (1.3.0)\n",
      "Requirement already satisfied: cycler>=0.10 in f:\\d2l\\.venv\\lib\\site-packages (from matplotlib) (0.12.1)\n",
      "Requirement already satisfied: fonttools>=4.22.0 in f:\\d2l\\.venv\\lib\\site-packages (from matplotlib) (4.54.0)\n",
      "Requirement already satisfied: kiwisolver>=1.0.1 in f:\\d2l\\.venv\\lib\\site-packages (from matplotlib) (1.4.7)\n",
      "Requirement already satisfied: numpy>=1.20 in f:\\d2l\\.venv\\lib\\site-packages (from matplotlib) (1.23.5)\n",
      "Requirement already satisfied: packaging>=20.0 in f:\\d2l\\.venv\\lib\\site-packages (from matplotlib) (24.1)\n",
      "Requirement already satisfied: pillow>=6.2.0 in f:\\d2l\\.venv\\lib\\site-packages (from matplotlib) (10.4.0)\n",
      "Requirement already satisfied: pyparsing<3.1,>=2.3.1 in f:\\d2l\\.venv\\lib\\site-packages (from matplotlib) (3.0.9)\n",
      "Requirement already satisfied: python-dateutil>=2.7 in f:\\d2l\\.venv\\lib\\site-packages (from matplotlib) (2.9.0.post0)\n",
      "Requirement already satisfied: importlib-resources>=3.2.0 in f:\\d2l\\.venv\\lib\\site-packages (from matplotlib) (6.4.5)\n",
      "Requirement already satisfied: zipp>=3.1.0 in f:\\d2l\\.venv\\lib\\site-packages (from importlib-resources>=3.2.0->matplotlib) (3.20.2)\n",
      "Requirement already satisfied: six>=1.5 in f:\\d2l\\.venv\\lib\\site-packages (from python-dateutil>=2.7->matplotlib) (1.16.0)\n"
     ]
    },
    {
     "name": "stderr",
     "output_type": "stream",
     "text": [
      "\n",
      "[notice] A new release of pip is available: 24.2 -> 24.3.1\n",
      "[notice] To update, run: python.exe -m pip install --upgrade pip\n"
     ]
    }
   ],
   "source": [
    "!pip install openpyxl\n",
    "!pip install pandas\n",
    "!pip install matplotlib"
   ]
  },
  {
   "cell_type": "markdown",
   "id": "c1d5aafb92cd8a51",
   "metadata": {},
   "source": []
  },
  {
   "cell_type": "markdown",
   "id": "b41989c399e3c420",
   "metadata": {},
   "source": [
    "# 准备数据"
   ]
  },
  {
   "cell_type": "code",
   "execution_count": 218,
   "id": "226a08bd4c9b4fc",
   "metadata": {
    "ExecuteTime": {
     "end_time": "2024-10-29T05:19:49.523483Z",
     "start_time": "2024-10-29T05:19:49.508446Z"
    }
   },
   "outputs": [],
   "source": [
    "import pandas as pd\n",
    "\n",
    "\n",
    "is_load_corr = False # 直接导入相关矩阵\n",
    "corr_path = './corr.xlsx' # 兼容excel旧版,xls文件\n",
    "data_path = './data.xlsx'"
   ]
  },
  {
   "cell_type": "markdown",
   "id": "842467433195d308",
   "metadata": {},
   "source": [
    "## 直接导入相关系数 optional"
   ]
  },
  {
   "cell_type": "code",
   "execution_count": 219,
   "id": "8560c26972b25cc2",
   "metadata": {
    "ExecuteTime": {
     "end_time": "2024-10-29T05:19:49.539137Z",
     "start_time": "2024-10-29T05:19:49.525477Z"
    }
   },
   "outputs": [],
   "source": [
    "if is_load_corr:\n",
    "    corr_matrix = pd.read_excel(corr_path) "
   ]
  },
  {
   "cell_type": "markdown",
   "id": "83200888618738b",
   "metadata": {},
   "source": [
    "## 导入序列"
   ]
  },
  {
   "cell_type": "code",
   "execution_count": 220,
   "id": "8c154c9365259b6d",
   "metadata": {
    "ExecuteTime": {
     "end_time": "2024-10-29T05:19:49.570464Z",
     "start_time": "2024-10-29T05:19:49.541138Z"
    }
   },
   "outputs": [],
   "source": [
    "data = pd.read_excel(data_path)\n",
    "# syn data\n",
    "# np.random.seed(0)\n",
    "# data = pd.DataFrame(np.random.randn(5, 10))"
   ]
  },
  {
   "cell_type": "markdown",
   "id": "f8a24fbd3dfacac1",
   "metadata": {},
   "source": [
    "## 计算相关系数"
   ]
  },
  {
   "cell_type": "code",
   "execution_count": 221,
   "id": "4d0bdcf0da4987e5",
   "metadata": {
    "ExecuteTime": {
     "end_time": "2024-10-29T05:19:49.586637Z",
     "start_time": "2024-10-29T05:19:49.573526Z"
    }
   },
   "outputs": [],
   "source": [
    "corr_matrix = data.corr()"
   ]
  },
  {
   "cell_type": "markdown",
   "id": "e1177b81640a13e",
   "metadata": {},
   "source": [
    "# 定义绘制patch的函数\n"
   ]
  },
  {
   "cell_type": "code",
   "execution_count": 222,
   "id": "25c9e3bcfa4ae00c",
   "metadata": {
    "ExecuteTime": {
     "end_time": "2024-10-29T05:19:49.601744Z",
     "start_time": "2024-10-29T05:19:49.587547Z"
    }
   },
   "outputs": [],
   "source": [
    "\n",
    "import pandas as pd\n",
    "import matplotlib.pyplot as plt\n",
    "from matplotlib.patches import Ellipse\n",
    "from matplotlib.patches import Rectangle\n",
    "from matplotlib import colormaps\n",
    "\n",
    "\n",
    "def draw_rect(ax, ax_row, ax_col):\n",
    "    width, height = 1, 1\n",
    "    rect = Rectangle((ax_col, ax_row), width, height, facecolor='white', edgecolor='black', linewidth=1, alpha=1)\n",
    "    ax.add_patch(rect)\n",
    "\n",
    "\n",
    "# 定义绘制椭圆的函数\n",
    "def draw_ellipse(ax, ax_row, ax_col, value,cmap, norm_func,scale_e_func=lambda x:x):\n",
    "    # 椭圆的宽度和高度\n",
    "    # 将value作为偏心率,width始终为1计算height\n",
    "    value = scale_e_func(value)\n",
    "    width = 1\n",
    "    height = ((1 - value ** 2) / width ** 2) ** (1 / 2)\n",
    "\n",
    "    # 椭圆的颜色，根据相关性的正负决定\n",
    "    color = cmap(norm(value))\n",
    "    # 椭圆的透明度，根据相关性的大小决定\n",
    "    angle = 45 if value < 0 else 135\n",
    "    alpha = abs(value)\n",
    "    # 创建椭圆\n",
    "    ell = Ellipse((ax_col + 0.5, ax_row + 0.5), width, height, angle=angle, color=color, alpha=alpha)\n",
    "    ax.add_patch(ell)\n",
    "\n",
    "\n",
    "# 定义没有关系(对角线位置)的画法\n",
    "def draw_no_relationship(ax, ax_row, ax_col):\n",
    "    [x1, x2] = ax_col, ax_col + 1\n",
    "    [y1, y2] = ax_row, ax_row + 1\n",
    "    ax.plot((x2, x1), (y1, y2), color='red')\n",
    "\n",
    "\n"
   ]
  },
  {
   "cell_type": "markdown",
   "id": "e84e3dc4b3a19020",
   "metadata": {},
   "source": [
    "# 设置绘图"
   ]
  },
  {
   "cell_type": "markdown",
   "id": "ecb21e4d69ee3dfa",
   "metadata": {},
   "source": [
    "## 预定义参数"
   ]
  },
  {
   "cell_type": "code",
   "execution_count": 223,
   "id": "3d277da80693bcba",
   "metadata": {
    "ExecuteTime": {
     "end_time": "2024-10-29T05:19:49.617899Z",
     "start_time": "2024-10-29T05:19:49.602735Z"
    }
   },
   "outputs": [],
   "source": [
    "# color map name\n",
    "color_map = 'coolwarm'\n",
    "\n",
    "# 标签文字\n",
    "# 自定义标签文字\n",
    "# labels = ['']\n",
    "# 获取excel的表头,作为标签文字\n",
    "labels = data.columns.tolist()\n",
    "is_diag_label = True\n",
    "is_x_label = True\n",
    "is_y_label = True\n",
    "\n",
    "# 显示阈值,在绘图中,仅绘制绝对值大于门限值的\n",
    "threshold = 0.5\n",
    "\n",
    "# scale the e (Eccentricity)\n",
    "# in default , the abs of value domain map to the e(value(0,1)->e(0,1))\n",
    "# scale_e = lambda x:x\n",
    "scale_e = lambda x: (x-threshold)*threshold/2+threshold*3/2 # value(threshold,1)->e(threshold*3/2,1)\n"
   ]
  },
  {
   "cell_type": "markdown",
   "id": "63ddf7fd489d5839",
   "metadata": {},
   "source": [
    "## 绘图"
   ]
  },
  {
   "cell_type": "code",
   "execution_count": 224,
   "id": "initial_id",
   "metadata": {
    "ExecuteTime": {
     "end_time": "2024-10-29T05:19:49.759380Z",
     "start_time": "2024-10-29T05:19:49.618893Z"
    }
   },
   "outputs": [
    {
     "data": {
      "image/png": "[encoded data removed]",
      "text/plain": [
       "<Figure size 1000x1000 with 2 Axes>"
      ]
     },
     "metadata": {},
     "output_type": "display_data"
    }
   ],
   "source": [
    "fig, ax = plt.subplots(figsize=(10, 10))\n",
    "\n",
    "# 设置一定边距,防止矩形绘制时导致在边缘的颜色变化\n",
    "ax.set_xlim(-0.1,corr_matrix.shape[0]+0.1)\n",
    "ax.set_ylim(-0.1,corr_matrix.shape[1]+0.1)\n",
    "\n",
    "# 反转y轴,让主对角线(左上到右下)是无相关性的一组\n",
    "ax.invert_yaxis()\n",
    "\n",
    "# 设置colorbar\n",
    "# 设置colorbar的颜色\n",
    "cmap=colormaps[color_map]\n",
    "# colorbar的缩放,缩放到-1,1,colorbar的最低颜色和最高颜色的对应值\n",
    "norm = plt.Normalize(vmin=-1, vmax=1)\n",
    "sm = plt.cm.ScalarMappable(cmap=cmap, norm=norm)\n",
    "# shrink 表示colorbar的缩放,默认是1\n",
    "plt.colorbar(sm, ax=ax, orientation='vertical',shrink=0.5) \n",
    "\n",
    "# 设置xy坐标轴同等比例,防止绘制出现长方形\n",
    "ax.set_aspect('equal')\n",
    "\n",
    "# 隐藏网格\n",
    "ax.grid(False)\n",
    "\n",
    "# 隐藏外边缘线\n",
    "for spine in ax.spines.values():\n",
    "    spine.set_visible(False)\n",
    "\n",
    "# 在热力图的每个单元格上绘制椭圆\n",
    "for i in range(corr_matrix.shape[0]):\n",
    "    for j in range(corr_matrix.shape[1]):\n",
    "        if i >= j:  # 对角线不绘制\n",
    "            cell_value = corr_matrix.iloc[i, j]\n",
    "            draw_rect(ax,i,j)\n",
    "            if abs(cell_value) > threshold:\n",
    "                if i == j:\n",
    "                    draw_no_relationship(ax,i,j)\n",
    "                else:\n",
    "                    draw_ellipse(ax, i, j, cell_value,cmap,norm,scale_e_func=scale_e)\n",
    "\n",
    "# 设置坐标轴\n",
    "# 斜坐标轴(沿着主对角线)\n",
    "if is_diag_label:\n",
    "    for i,label in enumerate(labels):\n",
    "        ax.text(i+1,i,label,rotation=45)\n",
    "if is_x_label or is_y_label:\n",
    "    # 设置标签所在的位置,这里设置每个格子对应的中间\n",
    "    position = [0.5+x for x in range(len(labels))]\n",
    "    # x坐标\n",
    "    if is_x_label:\n",
    "        plt.xticks(ticks=position, labels=labels)\n",
    "    # y坐标\n",
    "    if is_y_label:\n",
    "        plt.yticks(ticks=position, labels=labels)\n",
    "    \n",
    "# 显示图形\n",
    "plt.show()"
   ]
  }
 ],
 "metadata": {
  "kernelspec": {
   "display_name": "Python 3",
   "language": "python",
   "name": "python3"
  },
  "language_info": {
   "codemirror_mode": {
    "name": "ipython",
    "version": 2
   },
   "file_extension": ".py",
   "mimetype": "text/x-python",
   "name": "python",
   "nbconvert_exporter": "python",
   "pygments_lexer": "ipython2",
   "version": "3.12.4"
  }
 },
 "nbformat": 4,
 "nbformat_minor": 5
}
